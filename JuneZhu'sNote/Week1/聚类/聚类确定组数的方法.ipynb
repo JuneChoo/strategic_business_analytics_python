{
 "cells": [
  {
   "cell_type": "markdown",
   "metadata": {},
   "source": [
    "# 决定最优组数的3个必知方法\n",
    "\n",
    "## 方法分类\n",
    "1. 直接方法：优化一个特定标准值，比如平方（sum of squares）或者平均轮廓(average silhouette)。 对应的方法是手肘法和轮廓法\n",
    "2. 从统计角度的测试方法：将零假设和证据对比。 比如： 间接统计量(gap statistic)\n"
   ]
  },
  {
   "cell_type": "markdown",
   "metadata": {},
   "source": [
    "## 一. 手肘法\n",
    "聚类算法比如Kmeans这些方法背后最基本的概念就是最小化每个定义好的组之间的variation（或者组内误差平方和 WSS）。也就是说，当我们找到一个完美的分类方法时，WSS最小，此时如果再加一个类，wss不会继续变小。\n",
    "流程：\n",
    "1. 用不同的K值计算聚类算法，比如说从1遍历到10\n",
    "2. 对每个结果计算其WSS值\n",
    "3. 画出随着K值变化，wss变化的曲线图\n",
    "4. 曲线开始弯曲的地方一般就是一个比较合适的K值"
   ]
  },
  {
   "cell_type": "markdown",
   "metadata": {},
   "source": [
    "## 二. 平均轮廓法\n",
    "这个算法通过计算不同K值下样本的平均轮廓来看哪个K值最好，使平均轮廓最大的那个K就是合适的K。\n",
    "流程：\n",
    "1. 用不同的K值计算聚类算法，比如说从1遍历到10\n",
    "2. 对每个结果计算其平均轮廓值\n",
    "3. 画出随着K值变化，平均轮廓值变化的曲线图\n",
    "4. 平均轮廓值最大的地方的K值一般就是一个比较合适的K值"
   ]
  },
  {
   "cell_type": "markdown",
   "metadata": {},
   "source": [
    "## 三. 间接统计量法\n",
    "这个方法将不同K值下的组内variation和零假设下的特定预期值进行对比，使间接统计量最大的就是最好的K，这种方法的核心思想就是计算结果越高于随机结果就越好。\n",
    "流程：\n",
    "1. 计算不同K值下的组内variation和称之为W1\n",
    "2. 生成一个服从正态分布的数据，把他们也和第一步一样计算 称之为W2。\n",
    "3. 计算两个值之间的gap 和它的标准差：$$ Gap(K) = \\frac{1}{B}\\sum_{b=1}^B log(W*_1)-log(W_2) \\text {，B一般取500经验之谈} $$\n",
    "4. 选择让GAP值维持在1个标准差之内的K+1值，取K\n",
    "$$ Gap(K) >= GAP(K+1)-S_{k+1} $$"
   ]
  },
  {
   "cell_type": "markdown",
   "metadata": {},
   "source": []
  }
 ],
 "metadata": {
  "kernelspec": {
   "display_name": "Python 3",
   "language": "python",
   "name": "python3"
  },
  "language_info": {
   "codemirror_mode": {
    "name": "ipython",
    "version": 3
   },
   "file_extension": ".py",
   "mimetype": "text/x-python",
   "name": "python",
   "nbconvert_exporter": "python",
   "pygments_lexer": "ipython3",
   "version": "3.7.6"
  }
 },
 "nbformat": 4,
 "nbformat_minor": 4
}
